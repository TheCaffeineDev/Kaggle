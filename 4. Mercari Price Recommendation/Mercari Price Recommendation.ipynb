{
  "cells": [
    {
      "metadata": {
        "_uuid": "8f2839f25d086af736a60e9eeb907d3b93b6e0e5",
        "_cell_guid": "b1076dfc-b9ad-4769-8c92-a6c4dae69d19",
        "trusted": true
      },
      "cell_type": "code",
      "source": "# This Python 3 environment comes with many helpful analytics libraries installed\n# It is defined by the kaggle/python docker image: https://github.com/kaggle/docker-python\n# For example, here's several helpful packages to load in \n\nimport numpy as np # linear algebra\nimport pandas as pd # data processing, CSV file I/O (e.g. pd.read_csv)\n\n# Input data files are available in the \"../input/\" directory.\n# For example, running this (by clicking run or pressing Shift+Enter) will list the files in the input directory\n\nimport os\nprint(os.listdir(\"../input\"))\n\n# Any results you write to the current directory are saved as output.",
      "execution_count": null,
      "outputs": []
    },
    {
      "metadata": {
        "_uuid": "60b411bda45bae7e8bee4da2f99c44f7356b984a"
      },
      "cell_type": "markdown",
      "source": ""
    },
    {
      "metadata": {
        "_cell_guid": "79c7e3d0-c299-4dcb-8224-4455121ee9b0",
        "collapsed": true,
        "_uuid": "d629ff2d2480ee46fbb7e2d37f6b5fab8052498a",
        "trusted": false
      },
      "cell_type": "markdown",
      "source": " Let’s get started!"
    },
    {
      "metadata": {
        "trusted": true,
        "collapsed": true,
        "_uuid": "01865ac1144bfbcce3ba32fdccb9f0493f1be335"
      },
      "cell_type": "code",
      "source": "#dependencies import\n\nimport gc\nimport time\nimport numpy as np\nimport pandas as pd\nimport matplotlib.pyplot as plt\nimport seaborn as sns\nfrom scipy.sparse import csr_matrix, hstack\nfrom sklearn.feature_extraction.text import CountVectorizer, TfidfVectorizer\nfrom sklearn.preprocessing import LabelBinarizer\nfrom sklearn.model_selection import train_test_split, cross_val_score\nfrom sklearn.metrics import mean_squared_error\nimport lightgbm as lgb\ndf = pd.read_csv('../input/train.tsv', sep = '\\t')",
      "execution_count": null,
      "outputs": []
    },
    {
      "metadata": {
        "_uuid": "e5e6f0f3d7bb23a531005cbb63f98f64979b6097"
      },
      "cell_type": "markdown",
      "source": "We are using training set only for Exploratory data analysis"
    },
    {
      "metadata": {
        "trusted": true,
        "collapsed": true,
        "_uuid": "e5972ecb17e2871a05c410d77762b14e41af33aa"
      },
      "cell_type": "code",
      "source": "msk = np.random.rand(len(df)) < 0.8\ntrain = df[msk]\ntest = df[~msk]",
      "execution_count": null,
      "outputs": []
    },
    {
      "metadata": {
        "trusted": true,
        "_uuid": "d407368d9c08fdb8f88561c0ebc8d5dc9382d7d8"
      },
      "cell_type": "code",
      "source": "train.shape, test.shape",
      "execution_count": null,
      "outputs": []
    },
    {
      "metadata": {
        "trusted": true,
        "_uuid": "3b408c0d1fa911808fa6cce342d9d04b7c120369"
      },
      "cell_type": "code",
      "source": "train.head()",
      "execution_count": null,
      "outputs": []
    },
    {
      "metadata": {
        "trusted": true,
        "_uuid": "ca0b90c76ef4d2e663871200e378d8a183f16ac5"
      },
      "cell_type": "code",
      "source": "train.info()",
      "execution_count": null,
      "outputs": []
    },
    {
      "metadata": {
        "trusted": true,
        "_uuid": "d1022cf709db32eb24d18e01c6725706f442d0af"
      },
      "cell_type": "code",
      "source": "train.price.describe()",
      "execution_count": null,
      "outputs": []
    },
    {
      "metadata": {
        "_uuid": "d3de5260a93f1a772f2589996b9cf40b1f2838f0"
      },
      "cell_type": "markdown",
      "source": "The price of items are left skewed, vast majority of the items priced at 10–20. However, the most expensive item priced at 2009. So we will make log-transformation on the price."
    },
    {
      "metadata": {
        "trusted": true,
        "_uuid": "ab83a71a0591ba43693527c3e34bc2c128818802"
      },
      "cell_type": "code",
      "source": "plt.subplot(1, 2, 1)\n(train['price']).plot.hist(bins=50, figsize=(12, 6), edgecolor = 'white', range = [0, 250])\nplt.xlabel('price', fontsize=12)\nplt.title('Price Distribution', fontsize=12)\nplt.subplot(1, 2, 2)\nnp.log(train['price']+1).plot.hist(bins=50, figsize=(12,6), edgecolor='white')\nplt.xlabel('log(price+1)', fontsize=12)\nplt.title('Price Distribution', fontsize=12)",
      "execution_count": null,
      "outputs": []
    },
    {
      "metadata": {
        "_uuid": "eab1acaeb2fb2517eb1c604f8080fb8f53835c47"
      },
      "cell_type": "markdown",
      "source": "### Shipping\nOver 55% of items shipping fee were paid by the buyers."
    },
    {
      "metadata": {
        "trusted": true,
        "_uuid": "a150c399a3dd09a04b68e5222a8f340af45ebc98"
      },
      "cell_type": "code",
      "source": "train['shipping'].value_counts() / len(train)",
      "execution_count": null,
      "outputs": []
    },
    {
      "metadata": {
        "_uuid": "af47b71e4c3d1fa142fcc4714e41a8663d38cd04"
      },
      "cell_type": "markdown",
      "source": "How shipping related to the price?"
    },
    {
      "metadata": {
        "trusted": true,
        "_uuid": "ee32befe4f53585b70f35cbfc42cae46ec6b4101"
      },
      "cell_type": "code",
      "source": "shipping_fee_by_buyer = train.loc[df['shipping'] == 0, 'price']\nshipping_fee_by_seller = train.loc[df['shipping'] == 1, 'price']\nfig, ax = plt.subplots(figsize=(18,8))\nax.hist(shipping_fee_by_seller, color='#8CB4E1', alpha=1.0, bins=50, range = [0, 100],\n       label='Price when Seller pays Shipping')\nax.hist(shipping_fee_by_buyer, color='#007D00', alpha=0.7, bins=50, range = [0, 100],\n       label='Price when Buyer pays Shipping')\nplt.xlabel('price', fontsize=12)\nplt.ylabel('frequency', fontsize=12)\nplt.title('Price Distribution by Shipping Type', fontsize=15)\nplt.tick_params(labelsize=12)\nplt.legend()\nplt.show()",
      "execution_count": null,
      "outputs": []
    },
    {
      "metadata": {
        "trusted": true,
        "_uuid": "b4b585726aede2eea503ee1d251a0e055490ee31"
      },
      "cell_type": "code",
      "source": "print('The average price is {}'.format(round(shipping_fee_by_seller.mean(), 2)), 'if seller pays shipping');\nprint('The average price is {}'.format(round(shipping_fee_by_buyer.mean(), 2)), 'if buyer pays shipping')",
      "execution_count": null,
      "outputs": []
    },
    {
      "metadata": {
        "_uuid": "eb1d666b257d933347bd738ec1f8cfb24341e5e7"
      },
      "cell_type": "markdown",
      "source": "We compare again after log-transformation on the price."
    },
    {
      "metadata": {
        "trusted": true,
        "_uuid": "8ed8159569d354e5ffa8b9358a36e1a07c705fb5"
      },
      "cell_type": "code",
      "source": "fig, ax = plt.subplots(figsize=(18,8))\nax.hist(np.log(shipping_fee_by_seller+1), color='#8CB4E1', alpha=1.0, bins=50,\n       label='Price when Seller pays Shipping')\nax.hist(np.log(shipping_fee_by_buyer+1), color='#007D00', alpha=0.7, bins=50,\n       label='Price when Buyer pays Shipping')\nplt.xlabel('log(price+1)', fontsize=12)\nplt.ylabel('frequency', fontsize=12)\nplt.title('Price Distribution by Shipping Type', fontsize=15)\nplt.tick_params(labelsize=12)\nplt.legend()\nplt.show()",
      "execution_count": null,
      "outputs": []
    },
    {
      "metadata": {
        "_uuid": "ea7e7de80b5e861f9f1020dba5c42b2dcc8f5ea5"
      },
      "cell_type": "markdown",
      "source": "It is obvious that the average price is higher when buyer pays shipping."
    },
    {
      "metadata": {
        "_uuid": "b9d16fc7fc27de824150431872608eeea4c9144f"
      },
      "cell_type": "markdown",
      "source": "### Category Names\n\n"
    },
    {
      "metadata": {
        "trusted": true,
        "_uuid": "498a5f7eee0b1153e19cfc2bb2e85ce45f5ba830"
      },
      "cell_type": "code",
      "source": "print('There are', train['category_name'].nunique(), 'unique values in category name column')",
      "execution_count": null,
      "outputs": []
    },
    {
      "metadata": {
        "_uuid": "bcdc61983b9af8981e691b96087ce216023e52d4"
      },
      "cell_type": "markdown",
      "source": "There are 1265 unique values in category name column\n\nTop 10 most common category names:"
    },
    {
      "metadata": {
        "trusted": true,
        "_uuid": "03be0c5f64c7c1fdb3e871d312bac11712dbbfde"
      },
      "cell_type": "code",
      "source": "train['category_name'].value_counts()[:10]",
      "execution_count": null,
      "outputs": []
    },
    {
      "metadata": {
        "_uuid": "136bd71ee2cf4f2c840b9c74704818c1cbe40b63"
      },
      "cell_type": "markdown",
      "source": "### Item condition vs. Price"
    },
    {
      "metadata": {
        "trusted": true,
        "_uuid": "60c8be190a78d7e9aa398eee4ef1898f41d48b07"
      },
      "cell_type": "code",
      "source": "sns.boxplot(x = 'item_condition_id', y = np.log(train['price']+1), data = train, palette = sns.color_palette('RdBu',5))",
      "execution_count": null,
      "outputs": []
    },
    {
      "metadata": {
        "_uuid": "b32dcdb7ef9e407a0fafab74ad637df5b34934e8"
      },
      "cell_type": "markdown",
      "source": "There seems to be various on the average price between each item condition id.\n\nAfter above exploratory data analysis, I decide to use all the features to build our model."
    },
    {
      "metadata": {
        "_uuid": "de48d89615e536f2896f21dc27a5cda2904abedc"
      },
      "cell_type": "markdown",
      "source": "# LightGBM"
    },
    {
      "metadata": {
        "_uuid": "55e563ba444455247dee40c28921db106afa6605"
      },
      "cell_type": "markdown",
      "source": "Under the umbrella of the DMTK project of Microsoft, LightGBM is a gradient boosting framework that uses tree based learning algorithms. "
    },
    {
      "metadata": {
        "trusted": true,
        "collapsed": true,
        "_uuid": "c3f3bece4a3a0eb1f46fddb0e90d032a0fc3cd78"
      },
      "cell_type": "code",
      "source": "#General settings:\n\nNUM_BRANDS = 4000\nNUM_CATEGORIES = 1000\nNAME_MIN_DF = 10\nMAX_FEATURES_ITEM_DESCRIPTION = 50000",
      "execution_count": null,
      "outputs": []
    },
    {
      "metadata": {
        "_uuid": "b252960d9690256875bc58c7a66be355df6ba4c3"
      },
      "cell_type": "markdown",
      "source": "There are missing values in the columns that we have to fix:"
    },
    {
      "metadata": {
        "trusted": true,
        "_uuid": "66c1c7a9e121e9029d1844b44c5a200f5218f1d4"
      },
      "cell_type": "code",
      "source": "print('There are %d items that do not have a category name.' %train['category_name'].isnull().sum())",
      "execution_count": null,
      "outputs": []
    },
    {
      "metadata": {
        "_uuid": "6c65634ca2db82926440c71c6ed3e139d45bb183"
      },
      "cell_type": "markdown",
      "source": "There are 5083 items that do not have a category name."
    },
    {
      "metadata": {
        "trusted": true,
        "_uuid": "53316569a0098d40523bee990bd8b9b26596e7e6"
      },
      "cell_type": "code",
      "source": "print('There are %d items that do not have a brand name.' %train['brand_name'].isnull().sum())",
      "execution_count": null,
      "outputs": []
    },
    {
      "metadata": {
        "_uuid": "2a130dd946620727fa1e58083df61b6f0c67eeb0"
      },
      "cell_type": "markdown",
      "source": "There are 506370 items that do not have a brand name."
    },
    {
      "metadata": {
        "trusted": true,
        "_uuid": "f7ca4120f7176bad46bf6df8ef0dbec14b461984"
      },
      "cell_type": "code",
      "source": "print('There are %d items that do not have a description.' %train['item_description'].isnull().sum())",
      "execution_count": null,
      "outputs": []
    },
    {
      "metadata": {
        "_uuid": "2153f73e90a6363108f8025a8adc06a1cd16ec5b"
      },
      "cell_type": "markdown",
      "source": "There are 3 items that do not have a description.\n\nHelper function for LightGBM:"
    },
    {
      "metadata": {
        "trusted": true,
        "collapsed": true,
        "_uuid": "0b36c8fbc54d87670fe7616964f0c290192a05a1"
      },
      "cell_type": "code",
      "source": "def handle_missing_inplace(dataset): \n    dataset['category_name'].fillna(value='missing', inplace=True) \n    dataset['brand_name'].fillna(value='missing', inplace=True) \n    dataset['item_description'].replace('No description yet,''missing', inplace=True) \n    dataset['item_description'].fillna(value='missing', inplace=True)\ndef cutting(dataset):\n    pop_brand = dataset['brand_name'].value_counts().loc[lambda x: x.index != 'missing'].index[:NUM_BRANDS]\n    dataset.loc[~dataset['brand_name'].isin(pop_brand), 'brand_name'] = 'missing'\n    pop_category = dataset['category_name'].value_counts().loc[lambda x: x.index != 'missing'].index[:NUM_CATEGORIES]\ndef to_categorical(dataset):\n    dataset['category_name'] = dataset['category_name'].astype('category')\n    dataset['brand_name'] = dataset['brand_name'].astype('category')\n    dataset['item_condition_id'] = dataset['item_condition_id'].astype('category')",
      "execution_count": null,
      "outputs": []
    },
    {
      "metadata": {
        "trusted": true,
        "_uuid": "0d3c5eae44a8e01d521fef2db6bc6c17ed4be761"
      },
      "cell_type": "code",
      "source": "#Drop rows where price = 0\n\ndf = pd.read_csv('../input/train.tsv', sep = '\\t')\nmsk = np.random.rand(len(df)) < 0.8\ntrain = df[msk]\ntest = df[~msk]\ntest_new = test.drop('price', axis=1)\ny_test = np.log1p(test[\"price\"])\ntrain = train[train.price != 0].reset_index(drop=True)",
      "execution_count": null,
      "outputs": []
    },
    {
      "metadata": {
        "trusted": true,
        "collapsed": true,
        "_uuid": "c77f64c83919b6de2ae1bd328bef2aaa0d02e2a8"
      },
      "cell_type": "code",
      "source": "#Merge train and new test data.\n\nnrow_train = train.shape[0]\ny = np.log1p(train[\"price\"])\nmerge: pd.DataFrame = pd.concat([train, test_new])",
      "execution_count": null,
      "outputs": []
    },
    {
      "metadata": {
        "_uuid": "799fb9571b756b26f878798f0f85d0de4b88d828"
      },
      "cell_type": "markdown",
      "source": "## Training Preparation"
    },
    {
      "metadata": {
        "trusted": true,
        "collapsed": true,
        "_uuid": "e209550f399ec000355acb6d2b35f002e9e7d423"
      },
      "cell_type": "code",
      "source": "handle_missing_inplace(merge)\ncutting(merge)\nto_categorical(merge)",
      "execution_count": null,
      "outputs": []
    },
    {
      "metadata": {
        "_uuid": "d757f57e0545a59f37458e480c0d6621cff50ca6"
      },
      "cell_type": "markdown",
      "source": "## Count vectorize name and category name columns.\n"
    },
    {
      "metadata": {
        "trusted": true,
        "collapsed": true,
        "_uuid": "3160cb96546a5090a0d0a2016e1a0bdd47efa689"
      },
      "cell_type": "code",
      "source": "cv = CountVectorizer(min_df=NAME_MIN_DF)\nX_name = cv.fit_transform(merge['name'])\ncv = CountVectorizer()\nX_category = cv.fit_transform(merge['category_name'])",
      "execution_count": null,
      "outputs": []
    },
    {
      "metadata": {
        "_uuid": "15c324d7170a265e23b891301ecf641b5e2444aa"
      },
      "cell_type": "markdown",
      "source": "## TF-IDF Vectorize item_description column."
    },
    {
      "metadata": {
        "trusted": true,
        "collapsed": true,
        "_uuid": "18237c2db13b6f603bb9d083eadcae80cb1791b4"
      },
      "cell_type": "code",
      "source": "tv = TfidfVectorizer(max_features=MAX_FEATURES_ITEM_DESCRIPTION, ngram_range=(1, 3), stop_words='english')\nX_description = tv.fit_transform(merge['item_description'])",
      "execution_count": null,
      "outputs": []
    },
    {
      "metadata": {
        "_uuid": "99dc03291e1d2dbba803686b276716096540718f"
      },
      "cell_type": "markdown",
      "source": "## Label binarize brand_name column."
    },
    {
      "metadata": {
        "trusted": true,
        "collapsed": true,
        "_uuid": "924a7bd079b502044b95552c1a9c01484382c984"
      },
      "cell_type": "code",
      "source": "lb = LabelBinarizer(sparse_output=True)\nX_brand = lb.fit_transform(merge['brand_name'])",
      "execution_count": null,
      "outputs": []
    },
    {
      "metadata": {
        "_uuid": "112cfd1c1f1bdf73aa7f041e2556f8f5d7ecac9d"
      },
      "cell_type": "markdown",
      "source": "### Create dummy variables for item_condition_id and shipping columns."
    },
    {
      "metadata": {
        "trusted": true,
        "collapsed": true,
        "_uuid": "0eede0792d153fd265d7c6a83f846a8eb7bd08c9"
      },
      "cell_type": "code",
      "source": "X_dummies = csr_matrix(pd.get_dummies(merge[['item_condition_id', 'shipping']], sparse=True).values)",
      "execution_count": null,
      "outputs": []
    },
    {
      "metadata": {
        "_uuid": "b699e5c530c2dd8f44312472e49423af328e2f4c"
      },
      "cell_type": "markdown",
      "source": "### Create sparse merge."
    },
    {
      "metadata": {
        "trusted": true,
        "collapsed": true,
        "_uuid": "89e1c33dc2125c1e2409f5fd2773019dc8febb4e"
      },
      "cell_type": "code",
      "source": "sparse_merge = hstack((X_dummies, X_description, X_brand, X_category, X_name)).tocsr()",
      "execution_count": null,
      "outputs": []
    },
    {
      "metadata": {
        "_uuid": "f71d811641523a442b64f91785c8fcab8d86e26f"
      },
      "cell_type": "markdown",
      "source": "### Lets Remove features with document frequency <=1.\n\n"
    },
    {
      "metadata": {
        "trusted": true,
        "collapsed": true,
        "_uuid": "36d1dfb85f86caebb47c99850008cccfa43d61d4"
      },
      "cell_type": "code",
      "source": "mask = np.array(np.clip(sparse_merge.getnnz(axis=0) - 1, 0, 1), dtype=bool)\nsparse_merge = sparse_merge[:, mask]",
      "execution_count": null,
      "outputs": []
    },
    {
      "metadata": {
        "_uuid": "d2caa9653a2017e7f2d5a56ead51e5374fd375d4"
      },
      "cell_type": "markdown",
      "source": "### Lets Separate train and test data from sparse merge."
    },
    {
      "metadata": {
        "trusted": true,
        "collapsed": true,
        "_uuid": "488a1a698ddd482ced0729dc199d3abbd57e560a"
      },
      "cell_type": "code",
      "source": "X = sparse_merge[:nrow_train]\nX_test = sparse_merge[nrow_train:]",
      "execution_count": null,
      "outputs": []
    },
    {
      "metadata": {
        "_uuid": "237e5a8b9d0f7b120536828b3039dc23e4cb7cbc"
      },
      "cell_type": "markdown",
      "source": "### Let's Create dataset for lightgbm."
    },
    {
      "metadata": {
        "trusted": true,
        "collapsed": true,
        "_uuid": "cff0b09c5e08aa0f81ef1bc92da2e6dfd07920f6"
      },
      "cell_type": "code",
      "source": "train_X = lgb.Dataset(X, label=y)",
      "execution_count": null,
      "outputs": []
    },
    {
      "metadata": {
        "trusted": true,
        "collapsed": true,
        "_uuid": "c9db97664a88e557a9f30aa65eb83b635f2c3d25"
      },
      "cell_type": "code",
      "source": "#We will Specify our parameters as a dict.\n\nparams = {\n        'learning_rate': 0.75,\n        'application': 'regression',\n        'max_depth': 3,\n        'num_leaves': 100,\n        'verbosity': -1,\n        'metric': 'RMSE',\n    }",
      "execution_count": null,
      "outputs": []
    },
    {
      "metadata": {
        "_uuid": "63e231248102bc41674e01e5fcf6721c941ccec2"
      },
      "cell_type": "markdown",
      "source": "## Training Start"
    },
    {
      "metadata": {
        "trusted": true,
        "collapsed": true,
        "_uuid": "8dbdaff26f6c89d8e835411b385930a4fb1f47ee"
      },
      "cell_type": "code",
      "source": "gbm = lgb.train(params, train_set=train_X, num_boost_round=3200, verbose_eval=100)",
      "execution_count": null,
      "outputs": []
    },
    {
      "metadata": {
        "_uuid": "1ab295133b070c6ba40df24bc812e69d1c2bb81b"
      },
      "cell_type": "markdown",
      "source": "## Predict"
    },
    {
      "metadata": {
        "trusted": true,
        "collapsed": true,
        "_uuid": "75590bfd54e31182a41966caac1f4d14723c3a3c"
      },
      "cell_type": "code",
      "source": "y_pred = gbm.predict(X_test, num_iteration=gbm.best_iteration)",
      "execution_count": null,
      "outputs": []
    },
    {
      "metadata": {
        "_uuid": "46bfae6aecf43a151c74e25397c636ae4e9922e5"
      },
      "cell_type": "markdown",
      "source": "## Evaluation"
    },
    {
      "metadata": {
        "trusted": true,
        "_uuid": "9327266959ef092dc2eafa3808e38771a9f377b5"
      },
      "cell_type": "code",
      "source": "from sklearn.metrics import mean_squared_error\nprint('The rmse of prediction is:', mean_squared_error(y_test, y_pred) ** 0.5)",
      "execution_count": null,
      "outputs": []
    },
    {
      "metadata": {
        "trusted": true,
        "collapsed": true,
        "_uuid": "b8cb9cdadfc707830aa23060afbb7e4a76e568d5"
      },
      "cell_type": "code",
      "source": "",
      "execution_count": null,
      "outputs": []
    }
  ],
  "metadata": {
    "kernelspec": {
      "display_name": "Python 3",
      "language": "python",
      "name": "python3"
    },
    "language_info": {
      "name": "python",
      "version": "3.6.6",
      "mimetype": "text/x-python",
      "codemirror_mode": {
        "name": "ipython",
        "version": 3
      },
      "pygments_lexer": "ipython3",
      "nbconvert_exporter": "python",
      "file_extension": ".py"
    }
  },
  "nbformat": 4,
  "nbformat_minor": 1
}