{
  "cells": [
    {
      "metadata": {
        "_uuid": "8f2839f25d086af736a60e9eeb907d3b93b6e0e5",
        "_cell_guid": "b1076dfc-b9ad-4769-8c92-a6c4dae69d19",
        "trusted": true
      },
      "cell_type": "code",
      "source": "# This Python 3 environment comes with many helpful analytics libraries installed\n# It is defined by the kaggle/python docker image: https://github.com/kaggle/docker-python\n# For example, here's several helpful packages to load in \n\nimport numpy as np # linear algebra\nimport pandas as pd # data processing, CSV file I/O (e.g. pd.read_csv)\n\n# Input data files are available in the \"../input/\" directory.\n# For example, running this (by clicking run or pressing Shift+Enter) will list the files in the input directory\n\nimport os\nprint(os.listdir(\"../input\"))\n\n# Any results you write to the current directory are saved as output.",
      "execution_count": 8,
      "outputs": [
        {
          "output_type": "stream",
          "text": "['train.tsv', 'test.tsv', 'sampleSubmission.csv']\n",
          "name": "stdout"
        }
      ]
    },
    {
      "metadata": {
        "trusted": true,
        "_uuid": "99ae686e6143d057c1f6d160e47f0885b32e3505"
      },
      "cell_type": "code",
      "source": "import os\nimport numpy as np\nimport pandas as pd\nimport matplotlib.pyplot as plt\n\nfrom keras.preprocessing.text import Tokenizer\nfrom keras.preprocessing.sequence import pad_sequences\nfrom sklearn.model_selection import train_test_split\nfrom keras.utils import to_categorical\n\nfrom keras.models import Sequential\nfrom keras.layers import Dense, Dropout, Embedding, LSTM, Conv1D, GlobalMaxPooling1D, SpatialDropout1D\n\nimport tensorflow as tf\nsession_config = tf.ConfigProto(\n    log_device_placement=True,\n    inter_op_parallelism_threads=0,\n    intra_op_parallelism_threads=0,\n    allow_soft_placement=True)\nsess = tf.Session(config=session_config)\n",
      "execution_count": 15,
      "outputs": []
    },
    {
      "metadata": {
        "trusted": true,
        "_uuid": "c59de1657820c18618b9e9d15ae14f257f32d3e0"
      },
      "cell_type": "code",
      "source": "train = pd.read_csv('../input/train.tsv', sep='\\t')\n\nprint('train set: {0}'.format(train.shape))\ntrain.head(10)",
      "execution_count": 16,
      "outputs": [
        {
          "output_type": "stream",
          "text": "train set: (156060, 4)\n",
          "name": "stdout"
        },
        {
          "output_type": "execute_result",
          "execution_count": 16,
          "data": {
            "text/plain": "   PhraseId    ...      Sentiment\n0         1    ...              1\n1         2    ...              2\n2         3    ...              2\n3         4    ...              2\n4         5    ...              2\n5         6    ...              2\n6         7    ...              2\n7         8    ...              2\n8         9    ...              2\n9        10    ...              2\n\n[10 rows x 4 columns]",
            "text/html": "<div>\n<style scoped>\n    .dataframe tbody tr th:only-of-type {\n        vertical-align: middle;\n    }\n\n    .dataframe tbody tr th {\n        vertical-align: top;\n    }\n\n    .dataframe thead th {\n        text-align: right;\n    }\n</style>\n<table border=\"1\" class=\"dataframe\">\n  <thead>\n    <tr style=\"text-align: right;\">\n      <th></th>\n      <th>PhraseId</th>\n      <th>SentenceId</th>\n      <th>Phrase</th>\n      <th>Sentiment</th>\n    </tr>\n  </thead>\n  <tbody>\n    <tr>\n      <th>0</th>\n      <td>1</td>\n      <td>1</td>\n      <td>A series of escapades demonstrating the adage ...</td>\n      <td>1</td>\n    </tr>\n    <tr>\n      <th>1</th>\n      <td>2</td>\n      <td>1</td>\n      <td>A series of escapades demonstrating the adage ...</td>\n      <td>2</td>\n    </tr>\n    <tr>\n      <th>2</th>\n      <td>3</td>\n      <td>1</td>\n      <td>A series</td>\n      <td>2</td>\n    </tr>\n    <tr>\n      <th>3</th>\n      <td>4</td>\n      <td>1</td>\n      <td>A</td>\n      <td>2</td>\n    </tr>\n    <tr>\n      <th>4</th>\n      <td>5</td>\n      <td>1</td>\n      <td>series</td>\n      <td>2</td>\n    </tr>\n    <tr>\n      <th>5</th>\n      <td>6</td>\n      <td>1</td>\n      <td>of escapades demonstrating the adage that what...</td>\n      <td>2</td>\n    </tr>\n    <tr>\n      <th>6</th>\n      <td>7</td>\n      <td>1</td>\n      <td>of</td>\n      <td>2</td>\n    </tr>\n    <tr>\n      <th>7</th>\n      <td>8</td>\n      <td>1</td>\n      <td>escapades demonstrating the adage that what is...</td>\n      <td>2</td>\n    </tr>\n    <tr>\n      <th>8</th>\n      <td>9</td>\n      <td>1</td>\n      <td>escapades</td>\n      <td>2</td>\n    </tr>\n    <tr>\n      <th>9</th>\n      <td>10</td>\n      <td>1</td>\n      <td>demonstrating the adage that what is good for ...</td>\n      <td>2</td>\n    </tr>\n  </tbody>\n</table>\n</div>"
          },
          "metadata": {}
        }
      ]
    },
    {
      "metadata": {
        "trusted": true,
        "_uuid": "7e00e180679a36d2e370610e42dbbeb2857a39d6"
      },
      "cell_type": "code",
      "source": "test = pd.read_csv('../input/test.tsv', sep='\\t')\n\nprint('test set: {0}'.format(train.shape))\ntest.head(10)",
      "execution_count": 17,
      "outputs": [
        {
          "output_type": "stream",
          "text": "test set: (156060, 4)\n",
          "name": "stdout"
        },
        {
          "output_type": "execute_result",
          "execution_count": 17,
          "data": {
            "text/plain": "   PhraseId                        ...                                                                     Phrase\n0    156061                        ...                          An intermittently pleasing but mostly routine ...\n1    156062                        ...                          An intermittently pleasing but mostly routine ...\n2    156063                        ...                                                                         An\n3    156064                        ...                          intermittently pleasing but mostly routine effort\n4    156065                        ...                                 intermittently pleasing but mostly routine\n5    156066                        ...                                                intermittently pleasing but\n6    156067                        ...                                                    intermittently pleasing\n7    156068                        ...                                                             intermittently\n8    156069                        ...                                                                   pleasing\n9    156070                        ...                                                                        but\n\n[10 rows x 3 columns]",
            "text/html": "<div>\n<style scoped>\n    .dataframe tbody tr th:only-of-type {\n        vertical-align: middle;\n    }\n\n    .dataframe tbody tr th {\n        vertical-align: top;\n    }\n\n    .dataframe thead th {\n        text-align: right;\n    }\n</style>\n<table border=\"1\" class=\"dataframe\">\n  <thead>\n    <tr style=\"text-align: right;\">\n      <th></th>\n      <th>PhraseId</th>\n      <th>SentenceId</th>\n      <th>Phrase</th>\n    </tr>\n  </thead>\n  <tbody>\n    <tr>\n      <th>0</th>\n      <td>156061</td>\n      <td>8545</td>\n      <td>An intermittently pleasing but mostly routine ...</td>\n    </tr>\n    <tr>\n      <th>1</th>\n      <td>156062</td>\n      <td>8545</td>\n      <td>An intermittently pleasing but mostly routine ...</td>\n    </tr>\n    <tr>\n      <th>2</th>\n      <td>156063</td>\n      <td>8545</td>\n      <td>An</td>\n    </tr>\n    <tr>\n      <th>3</th>\n      <td>156064</td>\n      <td>8545</td>\n      <td>intermittently pleasing but mostly routine effort</td>\n    </tr>\n    <tr>\n      <th>4</th>\n      <td>156065</td>\n      <td>8545</td>\n      <td>intermittently pleasing but mostly routine</td>\n    </tr>\n    <tr>\n      <th>5</th>\n      <td>156066</td>\n      <td>8545</td>\n      <td>intermittently pleasing but</td>\n    </tr>\n    <tr>\n      <th>6</th>\n      <td>156067</td>\n      <td>8545</td>\n      <td>intermittently pleasing</td>\n    </tr>\n    <tr>\n      <th>7</th>\n      <td>156068</td>\n      <td>8545</td>\n      <td>intermittently</td>\n    </tr>\n    <tr>\n      <th>8</th>\n      <td>156069</td>\n      <td>8545</td>\n      <td>pleasing</td>\n    </tr>\n    <tr>\n      <th>9</th>\n      <td>156070</td>\n      <td>8545</td>\n      <td>but</td>\n    </tr>\n  </tbody>\n</table>\n</div>"
          },
          "metadata": {}
        }
      ]
    },
    {
      "metadata": {
        "trusted": true,
        "_uuid": "bb5a1574bed49f276604f0b98770353343918c0b"
      },
      "cell_type": "code",
      "source": "plt.figure(figsize=(10, 8))\n\nplt.hist(train['Sentiment'], 5, alpha=0.2, density=True)\n\nplt.hist(\n    [train.loc[train['Phrase'].apply(lambda p: ',' in p), 'Sentiment'],\n     train.loc[train['Phrase'].apply(lambda p: '.' in p), 'Sentiment'],\n     train.loc[train['Phrase'].apply(lambda p: '!' in p), 'Sentiment'],\n     train.loc[train['Phrase'].apply(lambda p: '?' in p), 'Sentiment']],\n    5, alpha=0.5, density=True,\n    label=[',', '.', '!', '?'])\n\nplt.xlabel('sentiment')\nplt.ylabel('probability')\nplt.grid(alpha=0.25)\nplt.legend(loc='upper right')",
      "execution_count": 18,
      "outputs": [
        {
          "output_type": "execute_result",
          "execution_count": 18,
          "data": {
            "text/plain": "<matplotlib.legend.Legend at 0x7f63747bbe48>"
          },
          "metadata": {}
        },
        {
          "output_type": "display_data",
          "data": {
            "text/plain": "<Figure size 720x576 with 1 Axes>",
            "image/png": "[encoded data removed]"
          },
          "metadata": {
            "needs_background": "light"
          }
        }
      ]
    },
    {
      "metadata": {
        "trusted": true,
        "_uuid": "c2b869f21c3cd90eb1bff2ceeabf587c16c1c4fc"
      },
      "cell_type": "code",
      "source": "replace_list = {r\"i'm\": 'i am',\n                r\"'re\": ' are',\n                r\"let’s\": 'let us',\n                r\"'s\":  ' is',\n                r\"'ve\": ' have',\n                r\"can't\": 'can not',\n                r\"cannot\": 'can not',\n                r\"shan’t\": 'shall not',\n                r\"n't\": ' not',\n                r\"'d\": ' would',\n                r\"'ll\": ' will',\n                r\"'scuse\": 'excuse',\n                ',': ' ,',\n                '.': ' .',\n                '!': ' !',\n                '?': ' ?',\n                '\\s+': ' '}\n\ndef clean_text(text):\n    text = text.lower()\n    for s in replace_list:\n        text = text.replace(s, replace_list[s])\n    text = ' '.join(text.split())\n    return text\n\nX_train = train['Phrase'].apply(lambda p: clean_text(p))\nphrase_len = X_train.apply(lambda p: len(p.split(' ')))\nmax_phrase_len = phrase_len.max()+10\nprint('max phrase len: {0}'.format(max_phrase_len-10)+\n      '\\nuse maxlen: {0}'.format(max_phrase_len))\n\nplt.figure(figsize=(10, 8))\nplt.hist(phrase_len, alpha=0.2, density=True)\nplt.xlabel('phrase len')\nplt.ylabel('probability')\nplt.grid(alpha=0.25)",
      "execution_count": 19,
      "outputs": [
        {
          "output_type": "stream",
          "text": "max phrase len: 53\nuse maxlen: 63\n",
          "name": "stdout"
        },
        {
          "output_type": "display_data",
          "data": {
            "text/plain": "<Figure size 720x576 with 1 Axes>",
            "image/png": "[encoded data removed]"
          },
          "metadata": {
            "needs_background": "light"
          }
        }
      ]
    },
    {
      "metadata": {
        "trusted": true,
        "_uuid": "f0c3de8cb380a8a93377065cd45eb71e4c72cbf1"
      },
      "cell_type": "code",
      "source": "y_train = train['Sentiment']\n\ntokenizer = Tokenizer(num_words=8192,\n                      filters='\"#$%&()*+-/:;<=>@[\\]^_`{|}~')\ntokenizer.fit_on_texts(X_train)\n\nX_train = tokenizer.texts_to_sequences(X_train)\nX_train = pad_sequences(X_train, maxlen=max_phrase_len)\ny_train = to_categorical(y_train.values)\n\nX_train, X_val, y_train, y_val = train_test_split(X_train, y_train, test_size=0.1)\nprint('X_train size: {0}, '.format(X_train.shape)+\n      'y_train size: {0}\\n'.format(y_train.shape)+\n      'X_val size: {0}, '.format(X_val.shape)+\n      'y_val size: {0}'.format(y_val.shape))",
      "execution_count": 20,
      "outputs": [
        {
          "output_type": "stream",
          "text": "X_train size: (140454, 63), y_train size: (140454, 5)\nX_val size: (15606, 63), y_val size: (15606, 5)\n",
          "name": "stdout"
        }
      ]
    },
    {
      "metadata": {
        "trusted": true,
        "_uuid": "d9d0b35c6334da5f0ea10aba639cc8bea053472f"
      },
      "cell_type": "code",
      "source": "model_cnn = Sequential()\nmodel_cnn.add(Embedding(8192, 256))\nmodel_cnn.add(SpatialDropout1D(0.5))\nmodel_cnn.add(Conv1D(128, 3, padding='same', activation='relu', strides=1))\nmodel_cnn.add(GlobalMaxPooling1D())\nmodel_cnn.add(Dense(256, activation='relu'))\nmodel_cnn.add(Dropout(0.5))\nmodel_cnn.add(Dense(5, activation='softmax'))\nmodel_cnn.compile(loss='categorical_crossentropy', optimizer='adam', metrics=['accuracy'])\nmodel_cnn.summary()",
      "execution_count": 21,
      "outputs": [
        {
          "output_type": "stream",
          "text": "_________________________________________________________________\nLayer (type)                 Output Shape              Param #   \n=================================================================\nembedding_1 (Embedding)      (None, None, 256)         2097152   \n_________________________________________________________________\nspatial_dropout1d_1 (Spatial (None, None, 256)         0         \n_________________________________________________________________\nconv1d_1 (Conv1D)            (None, None, 128)         98432     \n_________________________________________________________________\nglobal_max_pooling1d_1 (Glob (None, 128)               0         \n_________________________________________________________________\ndense_1 (Dense)              (None, 256)               33024     \n_________________________________________________________________\ndropout_1 (Dropout)          (None, 256)               0         \n_________________________________________________________________\ndense_2 (Dense)              (None, 5)                 1285      \n=================================================================\nTotal params: 2,229,893\nTrainable params: 2,229,893\nNon-trainable params: 0\n_________________________________________________________________\n",
          "name": "stdout"
        }
      ]
    },
    {
      "metadata": {
        "trusted": true,
        "_uuid": "686ec08078c11399a5c5ec31906b27ea7755b86e"
      },
      "cell_type": "code",
      "source": "model_cnn.fit(X_train, y_train,\n              validation_data=(X_val, y_val),\n              epochs=8, batch_size=1024, verbose=1)",
      "execution_count": 22,
      "outputs": [
        {
          "output_type": "stream",
          "text": "Train on 140454 samples, validate on 15606 samples\nEpoch 1/8\n140454/140454 [==============================] - 9s 64us/step - loss: 1.1773 - acc: 0.5442 - val_loss: 0.9433 - val_acc: 0.6207\nEpoch 2/8\n140454/140454 [==============================] - 7s 52us/step - loss: 0.8978 - acc: 0.6408 - val_loss: 0.8723 - val_acc: 0.6478\nEpoch 3/8\n140454/140454 [==============================] - 7s 53us/step - loss: 0.8286 - acc: 0.6660 - val_loss: 0.8452 - val_acc: 0.6576\nEpoch 4/8\n140454/140454 [==============================] - 7s 53us/step - loss: 0.7864 - acc: 0.6828 - val_loss: 0.8341 - val_acc: 0.6628\nEpoch 5/8\n140454/140454 [==============================] - 7s 53us/step - loss: 0.7518 - acc: 0.6953 - val_loss: 0.8289 - val_acc: 0.6654\nEpoch 6/8\n140454/140454 [==============================] - 7s 53us/step - loss: 0.7237 - acc: 0.7065 - val_loss: 0.8292 - val_acc: 0.6663\nEpoch 7/8\n140454/140454 [==============================] - 7s 53us/step - loss: 0.7009 - acc: 0.7150 - val_loss: 0.8309 - val_acc: 0.6700\nEpoch 8/8\n140454/140454 [==============================] - 7s 53us/step - loss: 0.6808 - acc: 0.7225 - val_loss: 0.8385 - val_acc: 0.6659\n",
          "name": "stdout"
        },
        {
          "output_type": "execute_result",
          "execution_count": 22,
          "data": {
            "text/plain": "<keras.callbacks.History at 0x7f6374743cc0>"
          },
          "metadata": {}
        }
      ]
    },
    {
      "metadata": {
        "_uuid": "52b379423e782eccff71627f6976944e9a423ded"
      },
      "cell_type": "markdown",
      "source": "# LSTM"
    },
    {
      "metadata": {
        "trusted": true,
        "_uuid": "6c50a0fe869c43b7868fb54e3a3d44974550f1fe"
      },
      "cell_type": "code",
      "source": "model_lstm = Sequential()\nmodel_lstm.add(Embedding(8192, 256))\nmodel_lstm.add(SpatialDropout1D(0.3))\nmodel_lstm.add(LSTM(256, dropout=0.3, recurrent_dropout=0.3))\nmodel_lstm.add(Dense(256, activation='relu'))\nmodel_lstm.add(Dropout(0.3))\nmodel_lstm.add(Dense(5, activation='softmax'))\nmodel_lstm.compile(loss='categorical_crossentropy', optimizer='Adam', metrics=['accuracy'])\nmodel_lstm.summary()",
      "execution_count": 23,
      "outputs": [
        {
          "output_type": "stream",
          "text": "_________________________________________________________________\nLayer (type)                 Output Shape              Param #   \n=================================================================\nembedding_2 (Embedding)      (None, None, 256)         2097152   \n_________________________________________________________________\nspatial_dropout1d_2 (Spatial (None, None, 256)         0         \n_________________________________________________________________\nlstm_1 (LSTM)                (None, 256)               525312    \n_________________________________________________________________\ndense_3 (Dense)              (None, 256)               65792     \n_________________________________________________________________\ndropout_2 (Dropout)          (None, 256)               0         \n_________________________________________________________________\ndense_4 (Dense)              (None, 5)                 1285      \n=================================================================\nTotal params: 2,689,541\nTrainable params: 2,689,541\nNon-trainable params: 0\n_________________________________________________________________\n",
          "name": "stdout"
        }
      ]
    },
    {
      "metadata": {
        "trusted": true,
        "_uuid": "9678248e6d82703b60873f86ffbe865c70a2810a"
      },
      "cell_type": "code",
      "source": "# for lstm batch_size should not be too large\nmodel_lstm.fit(X_train, y_train,\n               validation_data=(X_val, y_val),\n               epochs=8, batch_size=512, verbose=1)",
      "execution_count": 24,
      "outputs": [
        {
          "output_type": "stream",
          "text": "Train on 140454 samples, validate on 15606 samples\nEpoch 1/8\n140454/140454 [==============================] - 60s 429us/step - loss: 1.0808 - acc: 0.5701 - val_loss: 0.9085 - val_acc: 0.6359\nEpoch 2/8\n140454/140454 [==============================] - 59s 417us/step - loss: 0.8667 - acc: 0.6525 - val_loss: 0.8606 - val_acc: 0.6513\nEpoch 3/8\n140454/140454 [==============================] - 59s 417us/step - loss: 0.8134 - acc: 0.6724 - val_loss: 0.8464 - val_acc: 0.6588\nEpoch 4/8\n140454/140454 [==============================] - 58s 416us/step - loss: 0.7774 - acc: 0.6847 - val_loss: 0.8351 - val_acc: 0.6619\nEpoch 5/8\n140454/140454 [==============================] - 58s 416us/step - loss: 0.7520 - acc: 0.6942 - val_loss: 0.8365 - val_acc: 0.6654\nEpoch 6/8\n140454/140454 [==============================] - 59s 417us/step - loss: 0.7284 - acc: 0.7017 - val_loss: 0.8279 - val_acc: 0.6660\nEpoch 7/8\n140454/140454 [==============================] - 58s 416us/step - loss: 0.7107 - acc: 0.7067 - val_loss: 0.8342 - val_acc: 0.6660\nEpoch 8/8\n140454/140454 [==============================] - 59s 417us/step - loss: 0.6944 - acc: 0.7141 - val_loss: 0.8331 - val_acc: 0.6662\n",
          "name": "stdout"
        },
        {
          "output_type": "execute_result",
          "execution_count": 24,
          "data": {
            "text/plain": "<keras.callbacks.History at 0x7f6374630b00>"
          },
          "metadata": {}
        }
      ]
    },
    {
      "metadata": {
        "trusted": true,
        "_uuid": "7cd3b4b4875c3b65c5f8c9ad19577f634b609b5c"
      },
      "cell_type": "code",
      "source": "X_test = test['Phrase'].apply(lambda p: clean_text(p))\n\nprint('X_train size: {0}'.format(X_test.apply(lambda p: len(p.split(' '))).max()))\n\nX_test = tokenizer.texts_to_sequences(X_test)\nX_test = pad_sequences(X_test, maxlen=max_phrase_len)\n\nsub = pd.read_csv('../input/sampleSubmission.csv')\nsub.head()",
      "execution_count": 25,
      "outputs": [
        {
          "output_type": "stream",
          "text": "X_train size: 56\n",
          "name": "stdout"
        },
        {
          "output_type": "execute_result",
          "execution_count": 25,
          "data": {
            "text/plain": "   PhraseId  Sentiment\n0    156061          2\n1    156062          2\n2    156063          2\n3    156064          2\n4    156065          2",
            "text/html": "<div>\n<style scoped>\n    .dataframe tbody tr th:only-of-type {\n        vertical-align: middle;\n    }\n\n    .dataframe tbody tr th {\n        vertical-align: top;\n    }\n\n    .dataframe thead th {\n        text-align: right;\n    }\n</style>\n<table border=\"1\" class=\"dataframe\">\n  <thead>\n    <tr style=\"text-align: right;\">\n      <th></th>\n      <th>PhraseId</th>\n      <th>Sentiment</th>\n    </tr>\n  </thead>\n  <tbody>\n    <tr>\n      <th>0</th>\n      <td>156061</td>\n      <td>2</td>\n    </tr>\n    <tr>\n      <th>1</th>\n      <td>156062</td>\n      <td>2</td>\n    </tr>\n    <tr>\n      <th>2</th>\n      <td>156063</td>\n      <td>2</td>\n    </tr>\n    <tr>\n      <th>3</th>\n      <td>156064</td>\n      <td>2</td>\n    </tr>\n    <tr>\n      <th>4</th>\n      <td>156065</td>\n      <td>2</td>\n    </tr>\n  </tbody>\n</table>\n</div>"
          },
          "metadata": {}
        }
      ]
    },
    {
      "metadata": {
        "trusted": true,
        "_uuid": "1e0ac0add0c5ed12554f8152fe2f94fd6832e2d5"
      },
      "cell_type": "code",
      "source": "y_cnn = model_cnn.predict(X_test)\ny_lstm = model_lstm.predict(X_test)\n\ny = y_cnn+y_lstm\ny = np.argmax(y, axis=1)\ny[:10]",
      "execution_count": 26,
      "outputs": [
        {
          "output_type": "execute_result",
          "execution_count": 26,
          "data": {
            "text/plain": "array([3, 3, 2, 2, 2, 2, 3, 2, 3, 2])"
          },
          "metadata": {}
        }
      ]
    },
    {
      "metadata": {
        "trusted": true,
        "_uuid": "487dc036b44549e97d51650c0691fd49c7aed701"
      },
      "cell_type": "code",
      "source": "sub = pd.read_csv('../input/sampleSubmission.csv')\nsub['Sentiment'] = y\nsub.head()",
      "execution_count": 27,
      "outputs": [
        {
          "output_type": "execute_result",
          "execution_count": 27,
          "data": {
            "text/plain": "   PhraseId  Sentiment\n0    156061          3\n1    156062          3\n2    156063          2\n3    156064          2\n4    156065          2",
            "text/html": "<div>\n<style scoped>\n    .dataframe tbody tr th:only-of-type {\n        vertical-align: middle;\n    }\n\n    .dataframe tbody tr th {\n        vertical-align: top;\n    }\n\n    .dataframe thead th {\n        text-align: right;\n    }\n</style>\n<table border=\"1\" class=\"dataframe\">\n  <thead>\n    <tr style=\"text-align: right;\">\n      <th></th>\n      <th>PhraseId</th>\n      <th>Sentiment</th>\n    </tr>\n  </thead>\n  <tbody>\n    <tr>\n      <th>0</th>\n      <td>156061</td>\n      <td>3</td>\n    </tr>\n    <tr>\n      <th>1</th>\n      <td>156062</td>\n      <td>3</td>\n    </tr>\n    <tr>\n      <th>2</th>\n      <td>156063</td>\n      <td>2</td>\n    </tr>\n    <tr>\n      <th>3</th>\n      <td>156064</td>\n      <td>2</td>\n    </tr>\n    <tr>\n      <th>4</th>\n      <td>156065</td>\n      <td>2</td>\n    </tr>\n  </tbody>\n</table>\n</div>"
          },
          "metadata": {}
        }
      ]
    },
    {
      "metadata": {
        "trusted": true,
        "_uuid": "5f940193b9977f2e3a3dd8f223ca280d027ceafd"
      },
      "cell_type": "code",
      "source": "sub.to_csv('test_Submission.csv', index=False)",
      "execution_count": 28,
      "outputs": []
    },
    {
      "metadata": {
        "trusted": true,
        "_uuid": "082796dd15ad372ef9efc08ad0e5f7d5ba304660"
      },
      "cell_type": "code",
      "source": "",
      "execution_count": null,
      "outputs": []
    }
  ],
  "metadata": {
    "kernelspec": {
      "display_name": "Python 3",
      "language": "python",
      "name": "python3"
    },
    "language_info": {
      "name": "python",
      "version": "3.6.6",
      "mimetype": "text/x-python",
      "codemirror_mode": {
        "name": "ipython",
        "version": 3
      },
      "pygments_lexer": "ipython3",
      "nbconvert_exporter": "python",
      "file_extension": ".py"
    }
  },
  "nbformat": 4,
  "nbformat_minor": 1
}