{
  "cells": [
    {
      "metadata": {
        "_uuid": "8f2839f25d086af736a60e9eeb907d3b93b6e0e5",
        "_cell_guid": "b1076dfc-b9ad-4769-8c92-a6c4dae69d19",
        "trusted": true
      },
      "cell_type": "code",
      "source": "# This Python 3 environment comes with many helpful analytics libraries installed\n# It is defined by the kaggle/python docker image: https://github.com/kaggle/docker-python\n# For example, here's several helpful packages to load in \n\nimport numpy as np # linear algebra\nimport pandas as pd # data processing, CSV file I/O (e.g. pd.read_csv)\n\n# Input data files are available in the \"../input/\" directory.\n# For example, running this (by clicking run or pressing Shift+Enter) will list the files in the input directory\n\nimport os\nprint(os.listdir(\"../input\"))\n\n# Any results you write to the current directory are saved as output.",
      "execution_count": 16,
      "outputs": [
        {
          "output_type": "stream",
          "text": "['train.tsv', 'test.tsv', 'sampleSubmission.csv']\n",
          "name": "stdout"
        }
      ]
    },
    {
      "metadata": {
        "trusted": true,
        "_uuid": "4695b2be1212181f9db19176f4e5b02c0bcf47b1"
      },
      "cell_type": "code",
      "source": "#Import libraries\nimport numpy as np\nimport nltk\nimport pandas as pd\nimport seaborn as sb\nimport matplotlib.pyplot as plt\nfrom pprint import pprint\nfrom sklearn.pipeline import Pipeline\nfrom sklearn.feature_extraction.text import CountVectorizer, TfidfTransformer\nfrom sklearn.feature_extraction.text import TfidfTransformer\nfrom sklearn.naive_bayes import MultinomialNB\nfrom sklearn.linear_model import SGDClassifier\nfrom sklearn.model_selection import GridSearchCV\nfrom sklearn.model_selection import train_test_split\nfrom sklearn import metrics\n\nsb.set(color_codes=True)\nnltk.download('wordnet')",
      "execution_count": 23,
      "outputs": [
        {
          "output_type": "stream",
          "text": "[nltk_data] Downloading package wordnet to /usr/share/nltk_data...\n[nltk_data]   Package wordnet is already up-to-date!\n",
          "name": "stdout"
        },
        {
          "output_type": "execute_result",
          "execution_count": 23,
          "data": {
            "text/plain": "True"
          },
          "metadata": {}
        }
      ]
    },
    {
      "metadata": {
        "trusted": true,
        "_uuid": "cd72e91b34619e665dca9c64cf9f47988f94cb47"
      },
      "cell_type": "code",
      "source": "#Load the data\ndata_train = pd.read_csv(\"../input/train.tsv\", sep=\"\\t\")\ndata_test = pd.read_csv(\"../input/test.tsv\", sep='\\t')\ndata_train",
      "execution_count": 24,
      "outputs": [
        {
          "output_type": "execute_result",
          "execution_count": 24,
          "data": {
            "text/plain": "        PhraseId    ...      Sentiment\n0              1    ...              1\n1              2    ...              2\n2              3    ...              2\n3              4    ...              2\n4              5    ...              2\n5              6    ...              2\n6              7    ...              2\n7              8    ...              2\n8              9    ...              2\n9             10    ...              2\n10            11    ...              2\n11            12    ...              2\n12            13    ...              2\n13            14    ...              2\n14            15    ...              2\n15            16    ...              2\n16            17    ...              2\n17            18    ...              2\n18            19    ...              2\n19            20    ...              2\n20            21    ...              2\n21            22    ...              3\n22            23    ...              3\n23            24    ...              2\n24            25    ...              2\n25            26    ...              2\n26            27    ...              2\n27            28    ...              2\n28            29    ...              2\n29            30    ...              2\n...          ...    ...            ...\n156030    156031    ...              2\n156031    156032    ...              1\n156032    156033    ...              1\n156033    156034    ...              1\n156034    156035    ...              1\n156035    156036    ...              2\n156036    156037    ...              1\n156037    156038    ...              2\n156038    156039    ...              2\n156039    156040    ...              2\n156040    156041    ...              2\n156041    156042    ...              2\n156042    156043    ...              2\n156043    156044    ...              3\n156044    156045    ...              2\n156045    156046    ...              2\n156046    156047    ...              2\n156047    156048    ...              1\n156048    156049    ...              2\n156049    156050    ...              2\n156050    156051    ...              2\n156051    156052    ...              1\n156052    156053    ...              1\n156053    156054    ...              2\n156054    156055    ...              2\n156055    156056    ...              2\n156056    156057    ...              1\n156057    156058    ...              3\n156058    156059    ...              2\n156059    156060    ...              2\n\n[156060 rows x 4 columns]",
            "text/html": "<div>\n<style scoped>\n    .dataframe tbody tr th:only-of-type {\n        vertical-align: middle;\n    }\n\n    .dataframe tbody tr th {\n        vertical-align: top;\n    }\n\n    .dataframe thead th {\n        text-align: right;\n    }\n</style>\n<table border=\"1\" class=\"dataframe\">\n  <thead>\n    <tr style=\"text-align: right;\">\n      <th></th>\n      <th>PhraseId</th>\n      <th>SentenceId</th>\n      <th>Phrase</th>\n      <th>Sentiment</th>\n    </tr>\n  </thead>\n  <tbody>\n    <tr>\n      <th>0</th>\n      <td>1</td>\n      <td>1</td>\n      <td>A series of escapades demonstrating the adage ...</td>\n      <td>1</td>\n    </tr>\n    <tr>\n      <th>1</th>\n      <td>2</td>\n      <td>1</td>\n      <td>A series of escapades demonstrating the adage ...</td>\n      <td>2</td>\n    </tr>\n    <tr>\n      <th>2</th>\n      <td>3</td>\n      <td>1</td>\n      <td>A series</td>\n      <td>2</td>\n    </tr>\n    <tr>\n      <th>3</th>\n      <td>4</td>\n      <td>1</td>\n      <td>A</td>\n      <td>2</td>\n    </tr>\n    <tr>\n      <th>4</th>\n      <td>5</td>\n      <td>1</td>\n      <td>series</td>\n      <td>2</td>\n    </tr>\n    <tr>\n      <th>5</th>\n      <td>6</td>\n      <td>1</td>\n      <td>of escapades demonstrating the adage that what...</td>\n      <td>2</td>\n    </tr>\n    <tr>\n      <th>6</th>\n      <td>7</td>\n      <td>1</td>\n      <td>of</td>\n      <td>2</td>\n    </tr>\n    <tr>\n      <th>7</th>\n      <td>8</td>\n      <td>1</td>\n      <td>escapades demonstrating the adage that what is...</td>\n      <td>2</td>\n    </tr>\n    <tr>\n      <th>8</th>\n      <td>9</td>\n      <td>1</td>\n      <td>escapades</td>\n      <td>2</td>\n    </tr>\n    <tr>\n      <th>9</th>\n      <td>10</td>\n      <td>1</td>\n      <td>demonstrating the adage that what is good for ...</td>\n      <td>2</td>\n    </tr>\n    <tr>\n      <th>10</th>\n      <td>11</td>\n      <td>1</td>\n      <td>demonstrating the adage</td>\n      <td>2</td>\n    </tr>\n    <tr>\n      <th>11</th>\n      <td>12</td>\n      <td>1</td>\n      <td>demonstrating</td>\n      <td>2</td>\n    </tr>\n    <tr>\n      <th>12</th>\n      <td>13</td>\n      <td>1</td>\n      <td>the adage</td>\n      <td>2</td>\n    </tr>\n    <tr>\n      <th>13</th>\n      <td>14</td>\n      <td>1</td>\n      <td>the</td>\n      <td>2</td>\n    </tr>\n    <tr>\n      <th>14</th>\n      <td>15</td>\n      <td>1</td>\n      <td>adage</td>\n      <td>2</td>\n    </tr>\n    <tr>\n      <th>15</th>\n      <td>16</td>\n      <td>1</td>\n      <td>that what is good for the goose</td>\n      <td>2</td>\n    </tr>\n    <tr>\n      <th>16</th>\n      <td>17</td>\n      <td>1</td>\n      <td>that</td>\n      <td>2</td>\n    </tr>\n    <tr>\n      <th>17</th>\n      <td>18</td>\n      <td>1</td>\n      <td>what is good for the goose</td>\n      <td>2</td>\n    </tr>\n    <tr>\n      <th>18</th>\n      <td>19</td>\n      <td>1</td>\n      <td>what</td>\n      <td>2</td>\n    </tr>\n    <tr>\n      <th>19</th>\n      <td>20</td>\n      <td>1</td>\n      <td>is good for the goose</td>\n      <td>2</td>\n    </tr>\n    <tr>\n      <th>20</th>\n      <td>21</td>\n      <td>1</td>\n      <td>is</td>\n      <td>2</td>\n    </tr>\n    <tr>\n      <th>21</th>\n      <td>22</td>\n      <td>1</td>\n      <td>good for the goose</td>\n      <td>3</td>\n    </tr>\n    <tr>\n      <th>22</th>\n      <td>23</td>\n      <td>1</td>\n      <td>good</td>\n      <td>3</td>\n    </tr>\n    <tr>\n      <th>23</th>\n      <td>24</td>\n      <td>1</td>\n      <td>for the goose</td>\n      <td>2</td>\n    </tr>\n    <tr>\n      <th>24</th>\n      <td>25</td>\n      <td>1</td>\n      <td>for</td>\n      <td>2</td>\n    </tr>\n    <tr>\n      <th>25</th>\n      <td>26</td>\n      <td>1</td>\n      <td>the goose</td>\n      <td>2</td>\n    </tr>\n    <tr>\n      <th>26</th>\n      <td>27</td>\n      <td>1</td>\n      <td>goose</td>\n      <td>2</td>\n    </tr>\n    <tr>\n      <th>27</th>\n      <td>28</td>\n      <td>1</td>\n      <td>is also good for the gander , some of which oc...</td>\n      <td>2</td>\n    </tr>\n    <tr>\n      <th>28</th>\n      <td>29</td>\n      <td>1</td>\n      <td>is also good for the gander , some of which oc...</td>\n      <td>2</td>\n    </tr>\n    <tr>\n      <th>29</th>\n      <td>30</td>\n      <td>1</td>\n      <td>is also</td>\n      <td>2</td>\n    </tr>\n    <tr>\n      <th>...</th>\n      <td>...</td>\n      <td>...</td>\n      <td>...</td>\n      <td>...</td>\n    </tr>\n    <tr>\n      <th>156030</th>\n      <td>156031</td>\n      <td>8542</td>\n      <td>a joke in the United States</td>\n      <td>2</td>\n    </tr>\n    <tr>\n      <th>156031</th>\n      <td>156032</td>\n      <td>8543</td>\n      <td>The movie 's downfall is to substitute plot fo...</td>\n      <td>1</td>\n    </tr>\n    <tr>\n      <th>156032</th>\n      <td>156033</td>\n      <td>8543</td>\n      <td>The movie 's downfall</td>\n      <td>1</td>\n    </tr>\n    <tr>\n      <th>156033</th>\n      <td>156034</td>\n      <td>8543</td>\n      <td>is to substitute plot for personality .</td>\n      <td>1</td>\n    </tr>\n    <tr>\n      <th>156034</th>\n      <td>156035</td>\n      <td>8543</td>\n      <td>is to substitute plot for personality</td>\n      <td>1</td>\n    </tr>\n    <tr>\n      <th>156035</th>\n      <td>156036</td>\n      <td>8543</td>\n      <td>to substitute plot for personality</td>\n      <td>2</td>\n    </tr>\n    <tr>\n      <th>156036</th>\n      <td>156037</td>\n      <td>8543</td>\n      <td>substitute plot for personality</td>\n      <td>1</td>\n    </tr>\n    <tr>\n      <th>156037</th>\n      <td>156038</td>\n      <td>8543</td>\n      <td>substitute plot</td>\n      <td>2</td>\n    </tr>\n    <tr>\n      <th>156038</th>\n      <td>156039</td>\n      <td>8543</td>\n      <td>for personality</td>\n      <td>2</td>\n    </tr>\n    <tr>\n      <th>156039</th>\n      <td>156040</td>\n      <td>8544</td>\n      <td>The film is darkly atmospheric , with Herrmann...</td>\n      <td>2</td>\n    </tr>\n    <tr>\n      <th>156040</th>\n      <td>156041</td>\n      <td>8544</td>\n      <td>is darkly atmospheric , with Herrmann quietly ...</td>\n      <td>2</td>\n    </tr>\n    <tr>\n      <th>156041</th>\n      <td>156042</td>\n      <td>8544</td>\n      <td>is darkly atmospheric , with Herrmann quietly ...</td>\n      <td>2</td>\n    </tr>\n    <tr>\n      <th>156042</th>\n      <td>156043</td>\n      <td>8544</td>\n      <td>is darkly atmospheric ,</td>\n      <td>2</td>\n    </tr>\n    <tr>\n      <th>156043</th>\n      <td>156044</td>\n      <td>8544</td>\n      <td>is darkly atmospheric</td>\n      <td>3</td>\n    </tr>\n    <tr>\n      <th>156044</th>\n      <td>156045</td>\n      <td>8544</td>\n      <td>with Herrmann quietly suggesting the sadness a...</td>\n      <td>2</td>\n    </tr>\n    <tr>\n      <th>156045</th>\n      <td>156046</td>\n      <td>8544</td>\n      <td>Herrmann quietly suggesting the sadness and ob...</td>\n      <td>2</td>\n    </tr>\n    <tr>\n      <th>156046</th>\n      <td>156047</td>\n      <td>8544</td>\n      <td>Herrmann</td>\n      <td>2</td>\n    </tr>\n    <tr>\n      <th>156047</th>\n      <td>156048</td>\n      <td>8544</td>\n      <td>quietly suggesting the sadness and obsession b...</td>\n      <td>1</td>\n    </tr>\n    <tr>\n      <th>156048</th>\n      <td>156049</td>\n      <td>8544</td>\n      <td>suggesting the sadness and obsession beneath H...</td>\n      <td>2</td>\n    </tr>\n    <tr>\n      <th>156049</th>\n      <td>156050</td>\n      <td>8544</td>\n      <td>suggesting the sadness and obsession</td>\n      <td>2</td>\n    </tr>\n    <tr>\n      <th>156050</th>\n      <td>156051</td>\n      <td>8544</td>\n      <td>the sadness and obsession</td>\n      <td>2</td>\n    </tr>\n    <tr>\n      <th>156051</th>\n      <td>156052</td>\n      <td>8544</td>\n      <td>sadness and obsession</td>\n      <td>1</td>\n    </tr>\n    <tr>\n      <th>156052</th>\n      <td>156053</td>\n      <td>8544</td>\n      <td>sadness and</td>\n      <td>1</td>\n    </tr>\n    <tr>\n      <th>156053</th>\n      <td>156054</td>\n      <td>8544</td>\n      <td>beneath Hearst 's forced avuncular chortles</td>\n      <td>2</td>\n    </tr>\n    <tr>\n      <th>156054</th>\n      <td>156055</td>\n      <td>8544</td>\n      <td>Hearst 's forced avuncular chortles</td>\n      <td>2</td>\n    </tr>\n    <tr>\n      <th>156055</th>\n      <td>156056</td>\n      <td>8544</td>\n      <td>Hearst 's</td>\n      <td>2</td>\n    </tr>\n    <tr>\n      <th>156056</th>\n      <td>156057</td>\n      <td>8544</td>\n      <td>forced avuncular chortles</td>\n      <td>1</td>\n    </tr>\n    <tr>\n      <th>156057</th>\n      <td>156058</td>\n      <td>8544</td>\n      <td>avuncular chortles</td>\n      <td>3</td>\n    </tr>\n    <tr>\n      <th>156058</th>\n      <td>156059</td>\n      <td>8544</td>\n      <td>avuncular</td>\n      <td>2</td>\n    </tr>\n    <tr>\n      <th>156059</th>\n      <td>156060</td>\n      <td>8544</td>\n      <td>chortles</td>\n      <td>2</td>\n    </tr>\n  </tbody>\n</table>\n<p>156060 rows × 4 columns</p>\n</div>"
          },
          "metadata": {}
        }
      ]
    },
    {
      "metadata": {
        "trusted": true,
        "_uuid": "6f09af4c44dfe84996d721ba69f5c7db1321194d"
      },
      "cell_type": "code",
      "source": "#Basic Visualisation of the data\ndist = data_train.groupby([\"Sentiment\"]).size()\ndist = dist / dist.sum()\nplt.subplots(figsize=(12,8))\nsb.barplot(dist.keys(), dist.values);",
      "execution_count": 25,
      "outputs": [
        {
          "output_type": "display_data",
          "data": {
            "text/plain": "<Figure size 864x576 with 1 Axes>",
            "image/png": "[encoded data removed]"
          },
          "metadata": {}
        }
      ]
    },
    {
      "metadata": {
        "trusted": true,
        "_uuid": "ad1f43e40b1816c0033b62c0f560a39f58b34615"
      },
      "cell_type": "code",
      "source": "#Customized Tokenizer for data preprocessing\ndef NormalizingTokenizer(doc):\n    #Tokenize\n    phrase = nltk.word_tokenize(doc)\n    #Lemmatize\n    phrase_lemma = []\n    lemmatizer = nltk.stem.WordNetLemmatizer()\n    for word in phrase:\n        phrase_lemma.append(lemmatizer.lemmatize(word))\n    #Handle negations\n    phrase_iterator = iter(phrase_lemma)\n    negation = False\n    phrase_negated = []\n    for word in phrase_iterator:\n        phrase_negated.append(word)\n        if word ==  'not':\n            negation = True\n            break \n    for word in phrase_iterator:\n            phrase_negated.append('not_' + word) \n    return phrase_negated",
      "execution_count": 26,
      "outputs": []
    },
    {
      "metadata": {
        "trusted": true,
        "_uuid": "9fcdfe250d327d9115ab83a6827bfe877724ecba"
      },
      "cell_type": "code",
      "source": "#Building Pipelines\n\n#Naive Bayes Classifier\nbayes_clf = Pipeline([\n    ('vect', CountVectorizer(tokenizer=NormalizingTokenizer)),\n    ('tfidf', TfidfTransformer()),\n    ('clf', MultinomialNB()),\n])\n#Support Vector Machine Classifier\nsvm_clf = Pipeline([\n    ('vect', CountVectorizer(tokenizer=NormalizingTokenizer)),\n    ('tfidf', TfidfTransformer()),\n    ('clf', SGDClassifier(max_iter=1000, tol=1e-3)),\n])",
      "execution_count": 27,
      "outputs": []
    },
    {
      "metadata": {
        "trusted": true,
        "_uuid": "0d02561df835e5147f14d85584dce64251af127d"
      },
      "cell_type": "code",
      "source": "# Normalize\ndef NormalizingTokenizer(doc):\n    #Tokenize\n    phrase = nltk.word_tokenize(doc)\n    #Lemmatize\n    phrase_lemma = []\n    lemmatizer = nltk.stem.WordNetLemmatizer()\n    for word in phrase:\n        phrase_lemma.append(lemmatizer.lemmatize(word))\n    #Handle negations\n    phrase_iterator = iter(phrase_lemma)\n    negation = False\n    phrase_negated = []\n    for word in phrase_iterator:\n        phrase_negated.append(word)\n        if word ==  'not':\n            negation = True\n            break \n    for word in phrase_iterator:\n            phrase_negated.append('not_' + word) \n    return phrase_negated",
      "execution_count": 28,
      "outputs": []
    },
    {
      "metadata": {
        "trusted": true,
        "_uuid": "1273496d5c2128f3b1b2c9d84d33fbb8256f85f9"
      },
      "cell_type": "code",
      "source": "#In order to train the model on multiple cores, all functions need to be 'picklable'\n#Because of this we have to import the NormalizingTokenizer function\n\n#Naive Bayes Classifier pipeline with imported tokenizer\nbayes_clf = Pipeline([\n    ('vect', CountVectorizer(tokenizer=NormalizingTokenizer)),\n    ('tfidf', TfidfTransformer()),\n    ('clf', MultinomialNB()),\n])\n#Support Vector Machine Classifier pipeline with imported tokenizer\nsvm_clf = Pipeline([\n    ('vect', CountVectorizer(tokenizer=NormalizingTokenizer)),\n    ('tfidf', TfidfTransformer()),\n    ('clf', SGDClassifier(max_iter=1000, tol=1e-3)),\n])\n\n#Parameters range for the NB Model:\n#Exlore the models for mono-, bi-, and tri-grams\n#Explore with or without inverse document frequency\n#Explore with alpha= 0.5 or 1.0\nbayes_parameters = {\n     'vect__ngram_range': [(1, 1), (1, 2), (1,3)],\n     'tfidf__use_idf': (True, False),     \n     'clf__alpha': (0.5, 1.0),\n}\n\n#Parameters range for the SVM Model:\n#Exlore the models for mono-, bi-, and tri-grams\n#Explore with or without inverse document frequency\n#Explore with alpha= 0.01 or 0.001\nsvm_parameters = {\n     'vect__ngram_range': [(1, 1), (1, 2), (1,3)],\n     'tfidf__use_idf': (True, False),     \n     'clf__alpha': (1e-2, 1e-3),\n}\n\n#Split the training set\nX_train, X_validation, Y_train, Y_validation = train_test_split(data_train.values[:,2], \n                                                                data_train.values[:,-1].astype(int),\n                                                                test_size=0.1)",
      "execution_count": 30,
      "outputs": []
    },
    {
      "metadata": {
        "trusted": true,
        "_uuid": "93cdeabe04db55b15303f6eb03366be6b95d6926"
      },
      "cell_type": "code",
      "source": "#Parameter search on NB Classifier for the first 10000 datapoints\ngs_bayes = GridSearchCV(bayes_clf, bayes_parameters, cv=5, iid=False, n_jobs=-1, verbose=10)\ngs_bayes.fit(X_train[:10000], Y_train[:10000])\n#Fitting the model to the entire training dataset\nbayes_clf = gs_bayes.best_estimator_\nbayes_clf.fit(X_train, Y_train)\n#Testing the model\npredicted = bayes_clf.predict(X_validation)\nprint('NB Classifier:')\nprint(metrics.classification_report(Y_validation, predicted))",
      "execution_count": null,
      "outputs": [
        {
          "output_type": "stream",
          "text": "Fitting 5 folds for each of 12 candidates, totalling 60 fits\n",
          "name": "stdout"
        }
      ]
    },
    {
      "metadata": {
        "trusted": true,
        "_uuid": "55ca7cce028c21a47cec6c8aa9c1ac96c5813236"
      },
      "cell_type": "code",
      "source": "",
      "execution_count": null,
      "outputs": []
    }
  ],
  "metadata": {
    "kernelspec": {
      "display_name": "Python 3",
      "language": "python",
      "name": "python3"
    },
    "language_info": {
      "name": "python",
      "version": "3.6.6",
      "mimetype": "text/x-python",
      "codemirror_mode": {
        "name": "ipython",
        "version": 3
      },
      "pygments_lexer": "ipython3",
      "nbconvert_exporter": "python",
      "file_extension": ".py"
    }
  },
  "nbformat": 4,
  "nbformat_minor": 1
}